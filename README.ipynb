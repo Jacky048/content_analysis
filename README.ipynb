{
 "cells": [
  {
   "cell_type": "markdown",
   "metadata": {},
   "source": [
    "# Computational Content Analysis Notebooks\n",
    "\n",
    "These are a series of Jupyter notebooks for the Computational Content Analysis at the university of Chicago. They are  written in Python 3 and they just require the associated data directories and the specified packages installed to run. The notebooks are:\n",
    "\n",
    "1. [Intro](1-Intro/1-intro.ipynb)\n",
    "2. [Corpus Linguistics](2-Corpus-Linguistics/2-Corpus-Linguistics.ipynb)\n",
    "3. [Clustering and Topic Modeling](3-Clustering-and-Topic-Modeling/3-Clustering-and-Topic-Modeling.ipynb)\n",
    "4. [Word Embedding](4-Word-Embedding/4-Word-Embedding.ipynb)\n",
    "5. [Reliability](5-Reliability/5-Reliability.ipynb)\n",
    "6. [Classification](6-Classification/6-Classification.ipynb)\n",
    "7. [Information Extraction](7-Information-Extraction/7-Information-Extraction.ipynb)\n",
    "8. [Semantic Networks](8-Semantic-Networks/8-Semantic-Networks.ipynb)\n",
    "9. [Beyond Text](9-Beyond-Text/9-Beyond-Text.ipynb)"
   ]
  }
 ],
 "metadata": {},
 "nbformat": 4,
 "nbformat_minor": 2
}
